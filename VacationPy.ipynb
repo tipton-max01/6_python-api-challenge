{
 "cells": [
  {
   "cell_type": "markdown",
   "metadata": {},
   "source": [
    "# VacationPy\n",
    "----\n",
    "\n",
    "#### Note\n",
    "* Instructions have been included for each segment. You do not have to follow them exactly, but they are included to help you think through the steps."
   ]
  },
  {
   "cell_type": "code",
   "execution_count": 8,
   "metadata": {},
   "outputs": [],
   "source": [
    "# Dependencies and Setup\n",
    "import matplotlib.pyplot as plt\n",
    "import pandas as pd\n",
    "import numpy as np\n",
    "import requests\n",
    "import gmaps\n",
    "import os\n",
    "\n",
    "# Google developer API key\n",
    "from api_keys import g_key"
   ]
  },
  {
   "cell_type": "markdown",
   "metadata": {},
   "source": [
    "### Store Part I results into DataFrame\n",
    "* Load the csv exported in Part I to a DataFrame"
   ]
  },
  {
   "cell_type": "code",
   "execution_count": 53,
   "metadata": {},
   "outputs": [
    {
     "data": {
      "text/html": [
       "<div>\n",
       "<style scoped>\n",
       "    .dataframe tbody tr th:only-of-type {\n",
       "        vertical-align: middle;\n",
       "    }\n",
       "\n",
       "    .dataframe tbody tr th {\n",
       "        vertical-align: top;\n",
       "    }\n",
       "\n",
       "    .dataframe thead th {\n",
       "        text-align: right;\n",
       "    }\n",
       "</style>\n",
       "<table border=\"1\" class=\"dataframe\">\n",
       "  <thead>\n",
       "    <tr style=\"text-align: right;\">\n",
       "      <th></th>\n",
       "      <th>City</th>\n",
       "      <th>Temp</th>\n",
       "      <th>Humidity</th>\n",
       "      <th>Cloudiness</th>\n",
       "      <th>Wind Speed</th>\n",
       "      <th>Latitude</th>\n",
       "      <th>Longitude</th>\n",
       "    </tr>\n",
       "  </thead>\n",
       "  <tbody>\n",
       "    <tr>\n",
       "      <th>0</th>\n",
       "      <td>Khovd</td>\n",
       "      <td>64.04</td>\n",
       "      <td>50</td>\n",
       "      <td>0</td>\n",
       "      <td>2.06</td>\n",
       "      <td>48.01</td>\n",
       "      <td>91.64</td>\n",
       "    </tr>\n",
       "    <tr>\n",
       "      <th>1</th>\n",
       "      <td>Moscow</td>\n",
       "      <td>64.99</td>\n",
       "      <td>82</td>\n",
       "      <td>100</td>\n",
       "      <td>4.47</td>\n",
       "      <td>55.75</td>\n",
       "      <td>37.62</td>\n",
       "    </tr>\n",
       "    <tr>\n",
       "      <th>2</th>\n",
       "      <td>Albany</td>\n",
       "      <td>67.48</td>\n",
       "      <td>61</td>\n",
       "      <td>24</td>\n",
       "      <td>3.89</td>\n",
       "      <td>42.60</td>\n",
       "      <td>-73.97</td>\n",
       "    </tr>\n",
       "    <tr>\n",
       "      <th>3</th>\n",
       "      <td>Mataura</td>\n",
       "      <td>50.95</td>\n",
       "      <td>65</td>\n",
       "      <td>100</td>\n",
       "      <td>5.82</td>\n",
       "      <td>-46.19</td>\n",
       "      <td>168.86</td>\n",
       "    </tr>\n",
       "    <tr>\n",
       "      <th>4</th>\n",
       "      <td>Mahébourg</td>\n",
       "      <td>68.00</td>\n",
       "      <td>88</td>\n",
       "      <td>20</td>\n",
       "      <td>6.93</td>\n",
       "      <td>-20.41</td>\n",
       "      <td>57.70</td>\n",
       "    </tr>\n",
       "    <tr>\n",
       "      <th>...</th>\n",
       "      <td>...</td>\n",
       "      <td>...</td>\n",
       "      <td>...</td>\n",
       "      <td>...</td>\n",
       "      <td>...</td>\n",
       "      <td>...</td>\n",
       "      <td>...</td>\n",
       "    </tr>\n",
       "    <tr>\n",
       "      <th>549</th>\n",
       "      <td>Kargasok</td>\n",
       "      <td>61.41</td>\n",
       "      <td>55</td>\n",
       "      <td>30</td>\n",
       "      <td>3.04</td>\n",
       "      <td>59.06</td>\n",
       "      <td>80.86</td>\n",
       "    </tr>\n",
       "    <tr>\n",
       "      <th>550</th>\n",
       "      <td>Mayo</td>\n",
       "      <td>79.30</td>\n",
       "      <td>74</td>\n",
       "      <td>40</td>\n",
       "      <td>5.82</td>\n",
       "      <td>38.89</td>\n",
       "      <td>-76.51</td>\n",
       "    </tr>\n",
       "    <tr>\n",
       "      <th>551</th>\n",
       "      <td>Pyshchug</td>\n",
       "      <td>60.51</td>\n",
       "      <td>92</td>\n",
       "      <td>12</td>\n",
       "      <td>2.35</td>\n",
       "      <td>58.89</td>\n",
       "      <td>45.71</td>\n",
       "    </tr>\n",
       "    <tr>\n",
       "      <th>552</th>\n",
       "      <td>Plymouth</td>\n",
       "      <td>77.85</td>\n",
       "      <td>94</td>\n",
       "      <td>1</td>\n",
       "      <td>4.70</td>\n",
       "      <td>41.83</td>\n",
       "      <td>-70.83</td>\n",
       "    </tr>\n",
       "    <tr>\n",
       "      <th>553</th>\n",
       "      <td>Shellbrook</td>\n",
       "      <td>75.20</td>\n",
       "      <td>69</td>\n",
       "      <td>20</td>\n",
       "      <td>5.82</td>\n",
       "      <td>53.22</td>\n",
       "      <td>-106.40</td>\n",
       "    </tr>\n",
       "  </tbody>\n",
       "</table>\n",
       "<p>554 rows × 7 columns</p>\n",
       "</div>"
      ],
      "text/plain": [
       "           City   Temp  Humidity  Cloudiness  Wind Speed  Latitude  Longitude\n",
       "0         Khovd  64.04        50           0        2.06     48.01      91.64\n",
       "1        Moscow  64.99        82         100        4.47     55.75      37.62\n",
       "2        Albany  67.48        61          24        3.89     42.60     -73.97\n",
       "3       Mataura  50.95        65         100        5.82    -46.19     168.86\n",
       "4     Mahébourg  68.00        88          20        6.93    -20.41      57.70\n",
       "..          ...    ...       ...         ...         ...       ...        ...\n",
       "549    Kargasok  61.41        55          30        3.04     59.06      80.86\n",
       "550        Mayo  79.30        74          40        5.82     38.89     -76.51\n",
       "551    Pyshchug  60.51        92          12        2.35     58.89      45.71\n",
       "552    Plymouth  77.85        94           1        4.70     41.83     -70.83\n",
       "553  Shellbrook  75.20        69          20        5.82     53.22    -106.40\n",
       "\n",
       "[554 rows x 7 columns]"
      ]
     },
     "execution_count": 53,
     "metadata": {},
     "output_type": "execute_result"
    }
   ],
   "source": [
    "# File to Load (Remember to Change These)\n",
    "citydat_csv = \"city_data.csv\"\n",
    "\n",
    "# Read load_file and store into Pandas data frame\n",
    "citydat_df = pd.read_csv(citydat_csv)\n",
    "citydat_df = citydat_df.drop(citydat_df.columns[0], axis = 1)\n",
    "\n",
    "#Drop missing data\n",
    "citydat_df.dropna(inplace = True) \n",
    "\n",
    "citydat_df"
   ]
  },
  {
   "cell_type": "markdown",
   "metadata": {},
   "source": [
    "### Humidity Heatmap\n",
    "* Configure gmaps.\n",
    "* Use the Lat and Lng as locations and Humidity as the weight.\n",
    "* Add Heatmap layer to map."
   ]
  },
  {
   "cell_type": "code",
   "execution_count": 55,
   "metadata": {},
   "outputs": [
    {
     "data": {
      "application/vnd.jupyter.widget-view+json": {
       "model_id": "db0804ad2d23443fa81f44d4bfd667ff",
       "version_major": 2,
       "version_minor": 0
      },
      "text/plain": [
       "Figure(layout=FigureLayout(height='420px'))"
      ]
     },
     "metadata": {},
     "output_type": "display_data"
    }
   ],
   "source": [
    "%matplotlib inline\n",
    "#Configure gmaps\n",
    "gmaps.configure(api_key=g_key) \n",
    "\n",
    "#Humidity as the weight\n",
    "humidity = citydat_df[\"Humidity\"].astype(float)\n",
    "\n",
    "#Store Lat and Lng as locations\n",
    "locations = citydat_df[[\"Latitude\", \"Longitude\"]].astype(float)\n",
    "\n",
    "#Plot Heatmap\n",
    "fig = gmaps.figure()\n",
    "\n",
    "#Create heat layer\n",
    "heat_layer = gmaps.heatmap_layer(locations, weights=humidity, \n",
    "                                 dissipating=False, max_intensity=max(citydat_df[\"Humidity\"]),\n",
    "                                 point_radius=1)\n",
    "\n",
    "#Add layer\n",
    "fig.add_layer(heat_layer)\n",
    "\n",
    "#Display figure\n",
    "fig"
   ]
  },
  {
   "cell_type": "code",
   "execution_count": null,
   "metadata": {},
   "outputs": [],
   "source": []
  },
  {
   "cell_type": "markdown",
   "metadata": {},
   "source": [
    "### Create new DataFrame fitting weather criteria\n",
    "* Narrow down the cities to fit weather conditions.\n",
    "* Drop any rows will null values."
   ]
  },
  {
   "cell_type": "code",
   "execution_count": null,
   "metadata": {},
   "outputs": [],
   "source": []
  },
  {
   "cell_type": "markdown",
   "metadata": {},
   "source": [
    "### Hotel Map\n",
    "* Store into variable named `hotel_df`.\n",
    "* Add a \"Hotel Name\" column to the DataFrame.\n",
    "* Set parameters to search for hotels with 5000 meters.\n",
    "* Hit the Google Places API for each city's coordinates.\n",
    "* Store the first Hotel result into the DataFrame.\n",
    "* Plot markers on top of the heatmap."
   ]
  },
  {
   "cell_type": "code",
   "execution_count": null,
   "metadata": {},
   "outputs": [],
   "source": []
  },
  {
   "cell_type": "code",
   "execution_count": null,
   "metadata": {},
   "outputs": [],
   "source": []
  },
  {
   "cell_type": "code",
   "execution_count": null,
   "metadata": {},
   "outputs": [],
   "source": [
    "# NOTE: Do not change any of the code in this cell\n",
    "\n",
    "# Using the template add the hotel marks to the heatmap\n",
    "info_box_template = \"\"\"\n",
    "<dl>\n",
    "<dt>Name</dt><dd>{Hotel Name}</dd>\n",
    "<dt>City</dt><dd>{City}</dd>\n",
    "<dt>Country</dt><dd>{Country}</dd>\n",
    "</dl>\n",
    "\"\"\"\n",
    "# Store the DataFrame Row\n",
    "# NOTE: be sure to update with your DataFrame name\n",
    "hotel_info = [info_box_template.format(**row) for index, row in hotel_df.iterrows()]\n",
    "locations = hotel_df[[\"Lat\", \"Lng\"]]"
   ]
  },
  {
   "cell_type": "code",
   "execution_count": null,
   "metadata": {},
   "outputs": [],
   "source": [
    "# Add marker layer ontop of heat map\n",
    "\n",
    "\n",
    "# Display figure\n"
   ]
  },
  {
   "cell_type": "code",
   "execution_count": null,
   "metadata": {},
   "outputs": [],
   "source": []
  }
 ],
 "metadata": {
  "kernelspec": {
   "display_name": "Python 3.6.10 64-bit ('PythonData': conda)",
   "language": "python",
   "name": "python361064bitpythondataconda48999a30b45c4f04aa478478015b5050"
  },
  "language_info": {
   "codemirror_mode": {
    "name": "ipython",
    "version": 3
   },
   "file_extension": ".py",
   "mimetype": "text/x-python",
   "name": "python",
   "nbconvert_exporter": "python",
   "pygments_lexer": "ipython3",
   "version": "3.6.10"
  },
  "latex_envs": {
   "LaTeX_envs_menu_present": true,
   "autoclose": false,
   "autocomplete": true,
   "bibliofile": "biblio.bib",
   "cite_by": "apalike",
   "current_citInitial": 1,
   "eqLabelWithNumbers": true,
   "eqNumInitial": 1,
   "hotkeys": {
    "equation": "Ctrl-E",
    "itemize": "Ctrl-I"
   },
   "labels_anchors": false,
   "latex_user_defs": false,
   "report_style_numbering": false,
   "user_envs_cfg": false
  }
 },
 "nbformat": 4,
 "nbformat_minor": 2
}
